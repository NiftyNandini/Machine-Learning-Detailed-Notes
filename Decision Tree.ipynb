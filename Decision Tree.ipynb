{
 "cells": [
  {
   "cell_type": "markdown",
   "id": "e4f0bea9",
   "metadata": {},
   "source": [
    "### Decision Tree Classification Algorithm\n",
    "\n",
    "**Decision Tree** is a supervised learning technique commonly used for **Classification**, although it can also handle **Regression** problems. It is a tree-structured model where:\n",
    "\n",
    "- **Internal Nodes** represent features of the dataset.\n",
    "- **Branches** represent decision rules based on those features.\n",
    "- **Leaf Nodes** represent the final outcomes or classifications.\n",
    "\n",
    "#### Key Components:\n",
    "1. **Decision Nodes**: Nodes used to make decisions, leading to multiple branches.\n",
    "2. **Leaf Nodes**: Represent outcomes with no further branches.\n",
    "3. **Root Node**: The starting point of the tree, which splits into branches based on a feature.\n",
    "\n",
    "#### How it Works:\n",
    "- Decision Trees use **features** to make decisions.\n",
    "- The tree construction is based on the **CART algorithm** (Classification and Regression Tree).\n",
    "- It is a **graphical representation** that outlines all possible solutions to a problem/decision based on given conditions.\n",
    "- The model asks a question at each decision node. Depending on the response (e.g., Yes/No), the tree splits into subtrees, eventually leading to the final decision.\n",
    "\n",
    "#### Why \"Decision Tree\"?\n",
    "The name \"Decision Tree\" comes from its resemblance to a tree structure, starting with a root node that branches out to construct a decision flow.\n"
   ]
  },
  {
   "cell_type": "markdown",
   "id": "f38356b8",
   "metadata": {},
   "source": [
    "**Note: A decision tree can contain categorical data (YES/NO) as well as numeric data.**"
   ]
  },
  {
   "attachments": {
    "decision-tree-classification-algorithm.png": {
     "image/png": "[encoded data removed]"
    }
   },
   "cell_type": "markdown",
   "id": "b0337c15",
   "metadata": {},
   "source": [
    "![decision-tree-classification-algorithm.png](attachment:decision-tree-classification-algorithm.png)"
   ]
  },
  {
   "cell_type": "markdown",
   "id": "260c2d3d",
   "metadata": {},
   "source": [
    "### Why Use Decision Trees?\n",
    "\n",
    "Choosing the best algorithm for a dataset is crucial in machine learning. Here are key reasons to use **Decision Trees**:\n",
    "\n",
    "1. **Mimic Human Decision-Making**: Decision Trees closely replicate human thought processes, making the decisions easy to understand.\n",
    "2. **Transparent Logic**: The tree's structure visually explains the decision-making steps, simplifying interpretation.\n",
    "\n",
    "### Decision Tree Terminologies\n",
    "\n",
    "- **Root Node**: The starting point of the tree, representing the entire dataset before any splits.\n",
    "- **Leaf Node**: The final output node with no further divisions.\n",
    "- **Splitting**: The process of dividing the root or decision node into sub-nodes based on conditions.\n",
    "- **Branch/Sub-Tree**: A segment of the tree formed after a split.\n",
    "- **Pruning**: The act of removing unnecessary branches to simplify the tree.\n",
    "- **Parent/Child Node**: The initial node (root) is the parent, while the resulting nodes after splits are child nodes.\n"
   ]
  },
  {
   "cell_type": "markdown",
   "id": "4b1764ab",
   "metadata": {},
   "source": [
    "### How Does the Decision Tree Algorithm Work?\n",
    "\n",
    "To predict the class of a dataset, the Decision Tree algorithm follows a step-by-step process starting from the root node. Here’s a simplified breakdown:\n",
    "\n",
    "1. **Step 1**: Begin with the root node \\( S \\), which includes the entire dataset.\n",
    "2. **Step 2**: Use an **Attribute Selection Measure (ASM)** to find the best attribute for splitting.\n",
    "3. **Step 3**: Split \\( S \\) into subsets, each representing possible values of the selected attribute.\n",
    "4. **Step 4**: Create a decision node with the best attribute.\n",
    "5. **Step 5**: Recursively generate new decision trees using the subsets. Continue until nodes can no longer be split, marking the last nodes as leaf nodes.\n",
    "\n",
    "The algorithm compares attribute values at each node, moving down branches based on comparisons, until it reaches a final decision at a leaf node.\n"
   ]
  },
  {
   "attachments": {
    "decision-tree-classification-algorithm2.png": {
     "image/png": "[encoded data removed]"
    }
   },
   "cell_type": "markdown",
   "id": "88caa251",
   "metadata": {},
   "source": [
    "### Decision Tree Example\n",
    "\n",
    "Imagine a candidate has a job offer and is trying to decide whether to accept it. A decision tree helps solve this by examining various attributes step-by-step:\n",
    "\n",
    "1. **Step 1**: The decision tree begins with the **root node**, which considers the **Salary** attribute (chosen using ASM).\n",
    "2. **Step 2**: The root node splits into:\n",
    "   - A **decision node** based on the **Distance from Office**.\n",
    "   - A **leaf node** for an immediate decision.\n",
    "3. **Step 3**: The decision node for the distance further divides into:\n",
    "   - Another **decision node** based on the presence of a **Cab Facility**.\n",
    "   - Another **leaf node**.\n",
    "4. **Step 4**: The final decision node splits into two **leaf nodes**:\n",
    "   - **Accepted Offer**\n",
    "   - **Declined Offer**\n",
    "\n",
    "Below is a simplified decision tree diagram structure:\n",
    "\n",
    "![decision-tree-classification-algorithm2.png](attachment:decision-tree-classification-algorithm2.png)"
   ]
  },
  {
   "cell_type": "markdown",
   "id": "141fe7ec",
   "metadata": {},
   "source": [
    "## Attribute Selection Measures in Decision Trees\n",
    "\n",
    "When constructing a Decision Tree, choosing the best attribute for the root and sub-nodes is crucial. This is where **Attribute Selection Measures (ASM)** come in. ASM helps select the optimal attribute to split the data. The two most commonly used techniques are:\n",
    "\n",
    "### 1. Information Gain\n",
    "- **Information Gain** measures the change in entropy after splitting a dataset based on an attribute.\n",
    "- It indicates how much information a feature contributes to determining the class.\n",
    "- A Decision Tree aims to maximize Information Gain; the attribute with the highest Information Gain is split first.\n",
    "- The formula for Information Gain:\n",
    "  \n",
    "  $ \\text{Information Gain} = \\text{Entropy}(S) - \\left[ \\text{Weighted Avg} \\times \\text{Entropy(each feature)} \\right] $\n",
    " \n",
    " \n",
    "- **Entropy** measures the impurity or randomness in an attribute and is calculated as:\n",
    "\n",
    "  $ \\text{Entropy}(S) = -P(\\text{yes}) \\log_2 P(\\text{yes}) - P(\\text{no}) \\log_2 P(\\text{no}) $\n",
    "\n",
    "  Where:\n",
    "  - $ S $ = Total number of samples\n",
    "  - $ P(\\text{yes}) $ = Probability of \"yes\"\n",
    "  - $ P(\\text{no}) $ = Probability of \"no\"\n",
    "\n",
    "### 2. Gini Index\n",
    "- **Gini Index** measures the impurity of a dataset and is used in the CART (Classification and Regression Tree) algorithm.\n",
    "- An attribute with a lower Gini Index is preferred.\n",
    "- The Gini Index only allows binary splits and is calculated using the formula:\n",
    "\n",
    "  $ \\text{Gini Index} = 1 - \\sum_j P_j^2 $\n",
    "\n",
    "These measures help in identifying the best attributes to split the data and build an effective decision tree.\n"
   ]
  },
  {
   "cell_type": "markdown",
   "id": "b560e59e",
   "metadata": {},
   "source": [
    "## Pruning: Getting an Optimal Decision Tree\n",
    "\n",
    "Pruning is the process of removing unnecessary nodes from a decision tree to create an optimal model. \n",
    "\n",
    "A tree that's too large can lead to **overfitting**, capturing noise and irrelevant details in the data. Conversely, a tree that's too small might fail to capture important features of the dataset. Therefore, **Pruning** aims to reduce the size of the tree without sacrificing accuracy.\n",
    "\n",
    "There are mainly two types of tree **pruning** technology used:\n",
    "1. **Cost Complexity Pruning**  \n",
    "2. **Reduced Error Pruning**\n",
    "  "
   ]
  },
  {
   "cell_type": "markdown",
   "id": "f75ed7f6",
   "metadata": {},
   "source": [
    "## Types of Decision Tree Pruning\n",
    "\n",
    "There are two main types of decision tree pruning: **Pre-Pruning** and **Post-Pruning**.\n",
    "\n",
    "### Pre-Pruning (Early Stopping)\n",
    "Pre-pruning stops the growth of the decision tree before it becomes too complex, aiming to prevent overfitting, which can result in poor performance on new data.\n",
    "\n",
    "Some common pre-pruning techniques include:\n",
    "\n",
    "- **Maximum Depth**: Limits the maximum depth of a decision tree.\n",
    "- **Minimum Samples per Leaf**: Sets a minimum threshold for the number of samples in each leaf node.\n",
    "- **Minimum Samples per Split**: Specifies the minimal number of samples needed to split a node.\n",
    "- **Maximum Features**: Restricts the number of features considered for splitting.\n",
    "\n",
    "By pruning early, the resulting tree is simpler and less likely to overfit the training data.\n",
    "\n",
    "### Post-Pruning (Reducing Nodes)\n",
    "Post-pruning involves removing branches or nodes from a fully grown tree to improve the model's ability to generalize.\n",
    "\n",
    "Some common post-pruning techniques include:\n",
    "\n",
    "- **Cost-Complexity Pruning (CCP)**: Assigns a cost to each subtree based on its accuracy and complexity, then selects the subtree with the lowest cost.\n",
    "- **Reduced Error Pruning**: Removes branches that do not significantly affect the overall accuracy.\n",
    "- **Minimum Impurity Decrease**: Prunes nodes if the reduction in impurity (Gini impurity or entropy) is below a specified threshold.\n",
    "- **Minimum Leaf Size**: Removes leaf nodes with fewer samples than a specified threshold.\n",
    "\n",
    "Post-pruning simplifies the tree while preserving its accuracy. Decision tree pruning improves performance and interpretability by reducing complexity and avoiding overfitting. Proper pruning results in simpler, more robust models that generalize well to unseen data.\n"
   ]
  },
  {
   "cell_type": "markdown",
   "id": "37247b41",
   "metadata": {},
   "source": [
    "## Advantages of the Decision Tree\n",
    "- **Simple to Understand**: Follows a process similar to how humans make decisions in real life.\n",
    "- **Decision Solving**: Useful for solving decision-related problems by breaking them down systematically.\n",
    "- **Thorough Analysis**: Encourages considering all possible outcomes for a problem.\n",
    "- **Less Data Cleaning**: Requires less data preprocessing compared to other algorithms.\n",
    "\n",
    "## Disadvantages of the Decision Tree\n",
    "- **Complexity**: Can become complex with many layers, leading to intricate structures.\n",
    "- **Overfitting**: Prone to overfitting; the Random Forest algorithm can help mitigate this.\n",
    "- **Computational Complexity**: Increases with a higher number of class labels, making it computationally intensive.\n"
   ]
  },
  {
   "cell_type": "markdown",
   "id": "8d06f938",
   "metadata": {},
   "source": [
    "## Applications of Decision Tree\n",
    "- **Medical Diagnosis**: Helps in diagnosing diseases by making decisions based on symptoms and test results.\n",
    "- **Finance and Banking**: Used for credit risk assessment, fraud detection, and investment decision-making.\n",
    "- **Customer Relationship Management (CRM)**: Assists in customer segmentation, predicting customer churn, and targeting marketing campaigns.\n",
    "- **Manufacturing**: Supports quality control and defect analysis by identifying critical factors affecting product quality.\n",
    "- **Retail**: Utilized in product recommendation systems, sales forecasting, and inventory management.\n",
    "- **Agriculture**: Assists in predicting crop yields, identifying pest risks, and optimizing resource allocation.\n",
    "- **Education**: Helps in student performance analysis, identifying learning patterns, and suggesting personalized study plans.\n"
   ]
  },
  {
   "cell_type": "code",
   "execution_count": null,
   "id": "bbbbd83a",
   "metadata": {},
   "outputs": [],
   "source": []
  }
 ],
 "metadata": {
  "kernelspec": {
   "display_name": "Python 3 (ipykernel)",
   "language": "python",
   "name": "python3"
  },
  "language_info": {
   "codemirror_mode": {
    "name": "ipython",
    "version": 3
   },
   "file_extension": ".py",
   "mimetype": "text/x-python",
   "name": "python",
   "nbconvert_exporter": "python",
   "pygments_lexer": "ipython3",
   "version": "3.9.12"
  }
 },
 "nbformat": 4,
 "nbformat_minor": 5
}
