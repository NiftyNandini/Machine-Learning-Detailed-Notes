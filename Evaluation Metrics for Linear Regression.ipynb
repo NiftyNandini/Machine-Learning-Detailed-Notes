{
 "cells": [
  {
   "cell_type": "markdown",
   "id": "6e2825e2",
   "metadata": {},
   "source": [
    "# Evaluation Metrics for Linear Regression\n",
    "\n",
    "To evaluate the performance of a linear regression model, several metrics are used to determine how well the model predicts the observed outputs. The most common metrics are:\n",
    "\n",
    "## 1. Mean Squared Error (MSE)\n",
    "MSE calculates the average of the squared differences between the actual and predicted values.\n",
    "\n",
    "**Formula:**\n",
    "$\n",
    "\\text{MSE} = \\frac{1}{n} \\sum_{i=1}^{n} (y_i - \\hat{y_i})^2\n",
    "$\n",
    "\n",
    "Where:\n",
    "- **n** = number of data points\n",
    "- $ y_i $ = actual value for the $ i^{\\text{th}} $ data point\n",
    "- $ \\hat{y_i} $ = predicted value for the $ i^{\\text{th}}$ data point\n",
    "\n",
    "\n",
    "MSE quantifies the accuracy of a model's predictions. It is sensitive to outliers because large errors significantly affect the overall score.\n",
    "\n"
   ]
  },
  {
   "cell_type": "markdown",
   "id": "b0aa26cb",
   "metadata": {},
   "source": [
    "## 2. Mean Absolute Error (MAE)\n",
    "MAE measures the average absolute difference between predicted values and actual values.\n",
    "\n",
    "**Formula:**\n",
    "$\n",
    "\\text{MAE} = \\frac{1}{n} \\sum_{i=1}^{n} |y_i - \\hat{y_i}|\n",
    "$\n",
    "\n",
    "Where:\n",
    "- **n** = number of observations\n",
    "- $ y_i $ = actual values\n",
    "- $ \\hat{y_i} $ = predicted values\n",
    "\n",
    "MAE is not sensitive to outliers as it only considers absolute differences.\n",
    "\n"
   ]
  },
  {
   "cell_type": "markdown",
   "id": "130d832d",
   "metadata": {},
   "source": [
    "## 3. Root Mean Squared Error (RMSE)\n",
    "RMSE measures the square root of the variance of residuals and describes how well the observed data points match the expected values.\n",
    "\n",
    "**Formula:**\n",
    "$\n",
    "\\text{RMSE} = \\sqrt{\\frac{\\sum_{i=1}^{n} (y_{i, \\text{actual}} - y_{i, \\text{predicted}})^2}{n}}\n",
    "$\n",
    "\n",
    "RMSE is sensitive to the scale of the variables since its value depends on the units of the variables. A lower RMSE indicates a better fit.\n",
    "\n",
    "### Residual Standard Error (RSE):\n",
    "RSE gives an unbiased estimate of the RMSE by adjusting for the degrees of freedom.\n",
    "\n",
    "**Formula:**\n",
    "$\n",
    "\\text{RSE} = \\sqrt{\\frac{\\sum_{i=1}^{n} (y_{i, \\text{actual}} - y_{i, \\text{predicted}})^2}{n - 2}}\n",
    "$\n"
   ]
  },
  {
   "cell_type": "markdown",
   "id": "12505e89",
   "metadata": {},
   "source": [
    "## 4. Coefficient of Determination (R²)\n",
    "R² indicates how much variation in the dependent variable can be explained by the independent variables in the model. The value ranges from 0 to 1, with higher values indicating a better model.\n",
    "\n",
    "**Formula:**\n",
    "$\n",
    "R^2 = 1 - \\frac{\\text{RSS}}{\\text{TSS}}\n",
    "$\n",
    "\n",
    "Where:\n",
    "- **RSS** = Residual Sum of Squares\n",
    "- **TSS** = Total Sum of Squares\n",
    "\n",
    "### Residual Sum of Squares (RSS):\n",
    "RSS is the sum of the squared differences between observed values and predicted values.\n",
    "\n",
    "**Formula:**\n",
    "$\n",
    "\\text{RSS} = \\sum_{i=1}^{n} (y_i - b_0 - b_1x_i)^2\n",
    "$\n",
    "\n",
    "Where:\n",
    "- $ b_0, b_1 $ = model coefficients\n",
    "- $ x_i $ = predictor variable\n",
    "\n",
    "### Total Sum of Squares (TSS):\n",
    "TSS measures the total variation of the observed values from their mean.\n",
    "\n",
    "**Formula:**\n",
    "$\n",
    "\\text{TSS} = \\sum (y_i - \\bar{y})^2\n",
    "$\n",
    "\n",
    "Where:\n",
    "- $ \\bar{y} $ = mean of actual values\n",
    "\n"
   ]
  },
  {
   "cell_type": "markdown",
   "id": "b98d8977",
   "metadata": {},
   "source": [
    "## 5. Adjusted R²\n",
    "Adjusted R² accounts for the number of predictors in the model and penalizes the model for including irrelevant predictors.\n",
    "\n",
    "**Formula:**\n",
    "$\n",
    "\\text{Adjusted } R^2 = 1 - \\left( \\frac{(1 - R^2) \\cdot (n - 1)}{n - k - 1} \\right)\n",
    "$\n",
    "\n",
    "Where:\n",
    "- **n** = number of observations\n",
    "- **k** = number of predictors\n",
    "- $ R^2 $ = coefficient of determination\n",
    "\n",
    "### Significance of Adjusted R²:\n",
    "- Adjusted R² prevents overfitting by penalizing the model for adding predictors that do not significantly improve the explanation of variance in the dependent variable.\n",
    "\n",
    "\n",
    "\n"
   ]
  },
  {
   "cell_type": "code",
   "execution_count": null,
   "id": "1b1d4f2f",
   "metadata": {},
   "outputs": [],
   "source": []
  }
 ],
 "metadata": {
  "kernelspec": {
   "display_name": "Python 3 (ipykernel)",
   "language": "python",
   "name": "python3"
  },
  "language_info": {
   "codemirror_mode": {
    "name": "ipython",
    "version": 3
   },
   "file_extension": ".py",
   "mimetype": "text/x-python",
   "name": "python",
   "nbconvert_exporter": "python",
   "pygments_lexer": "ipython3",
   "version": "3.9.12"
  }
 },
 "nbformat": 4,
 "nbformat_minor": 5
}
