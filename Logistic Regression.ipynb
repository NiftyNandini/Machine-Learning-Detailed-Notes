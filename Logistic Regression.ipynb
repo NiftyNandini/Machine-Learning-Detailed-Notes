{
 "cells": [
  {
   "attachments": {
    "logistic-regression-in-machine-learning.png": {
     "image/png": "[encoded data removed]"
    }
   },
   "cell_type": "markdown",
   "id": "df0ee7f4",
   "metadata": {},
   "source": [
    "### Logistic Regression in Machine Learning\n",
    "\n",
    "Logistic regression is a widely used machine learning algorithm that falls under the **Supervised Learning** category. It is mainly used for predicting the **categorical dependent variable** using a set of **independent variables**.\n",
    "\n",
    "- **Output**: Unlike linear regression, which predicts continuous values, logistic regression predicts the probability of an outcome that is either **0** or **1**, which means the output is **binary** (e.g., Yes/No, True/False).\n",
    "\n",
    "- **Probabilistic Predictions**: Instead of predicting exact values, logistic regression predicts probabilities between 0 and 1, indicating the likelihood of a certain class.\n",
    "\n",
    "- **Logistic vs Linear Regression**: While linear regression fits a straight line, logistic regression fits an \"S\" shaped **logistic function** to predict binary outcomes.\n",
    "\n",
    "- **Applications**: Logistic regression is commonly used in classification tasks, such as determining whether a cell is cancerous, or whether a mouse is obese based on its weight.\n",
    "\n",
    "The **logistic function curve** is used to calculate the probability of an event, which is essential for classifying data into one of two categories.\n",
    "\n",
    "### Key Points:\n",
    "- Logistic regression is used for **classification** problems, not regression.\n",
    "- The algorithm provides **probabilities** for binary outcomes.\n",
    "- The output is constrained between **0 and 1**, making it ideal for binary classification tasks.\n",
    "\n",
    "Below is an example of the **logistic function curve** used in logistic regression:\n",
    "![logistic-regression-in-machine-learning.png](attachment:logistic-regression-in-machine-learning.png)\n",
    "\n",
    "\n",
    "### Sigmoid Function Properties\n",
    "\n",
    "The sigmoid function, denoted as $ \\sigma(z) $, has the following key properties:\n",
    "\n",
    "- As $ z \\to \\infty $, $ \\sigma(z) \\to 1 $.\n",
    "- As $ z \\to -\\infty $, $ \\sigma(z) \\to 0 $.\n",
    "- The value of $ \\sigma(z) $ is always bounded between 0 and 1.\n",
    "\n",
    "This behavior allows the sigmoid function to convert continuous values into probabilities within the range of 0 to 1.\n",
    "\n",
    "### Probability of Class Prediction\n",
    "\n",
    "In Logistic Regression, the probability of a class can be measured as:\n",
    "\n",
    "- $ P(y=1) = \\sigma(z) $\n",
    "- $ P(y=0) = 1 - \\sigma(z) $\n",
    "\n",
    "Where:\n",
    "- $ \\sigma(z) $ is the sigmoid function applied to the linear equation $ z $.\n",
    "- $ P(y=1) $ represents the probability of the data point belonging to class 1.\n",
    "- $ P(y=0) $ represents the probability of the data point belonging to class 0.\n"
   ]
  },
  {
   "cell_type": "markdown",
   "id": "b322ba27",
   "metadata": {},
   "source": [
    "**Note: Logistic regression uses the concept of predictive modeling as regression; therefore, it is called logistic regression, but is used to classify samples; Therefore, it falls under the classification algorithm.**"
   ]
  },
  {
   "cell_type": "markdown",
   "id": "afd62d5d",
   "metadata": {},
   "source": [
    "### Logistic Function (Sigmoid Function)\n",
    "\n",
    "The **sigmoid function** is a mathematical function used in **logistic regression** to map predicted values to probabilities between **0 and 1**.\n",
    "\n",
    "- **Range**: The sigmoid function takes any real-valued input and maps it to a value between **0** and **1**, ensuring the output represents a probability.\n",
    "- **S-Shape Curve**: The curve formed by the sigmoid function is \"S\"-shaped, indicating the transition from 0 to 1. This curve is essential for binary classification, as it predicts the likelihood of an outcome.\n",
    "- **Threshold**: In logistic regression, the **threshold value** is used to classify the output. For example, if the predicted probability is above the threshold (typically 0.5), the output is classified as **1**; otherwise, it's classified as **0**.\n",
    "\n",
    "The logistic function is defined as:\n",
    "\n",
    "$$\n",
    "f(x) = \\frac{1}{1 + e^{-x}}\n",
    "$$\n",
    "\n",
    "Where:\n",
    "- \\( x \\) is the input (weighted sum of features).\n",
    "- \\( e \\) is the base of the natural logarithm.\n",
    "\n",
    "### Key Points:\n",
    "- The sigmoid function maps any real number into a probability between **0 and 1**.\n",
    "- The curve's S-shape makes it suitable for **binary classification**.\n",
    "- **Thresholding** determines the classification based on predicted probabilities.\n"
   ]
  },
  {
   "cell_type": "markdown",
   "id": "8c8989ba",
   "metadata": {},
   "source": [
    "## Assumptions for Logistic Regression:\n",
    "\n",
    "- The dependent variable must be categorical in nature.\n",
    "- The independent variable should not have multi-collinearity."
   ]
  },
  {
   "cell_type": "markdown",
   "id": "54dadddc",
   "metadata": {},
   "source": [
    "### Logistic Regression Equation\n",
    "\n",
    "The **Logistic Regression equation** is derived from the **Linear Regression equation**. Here's how it's mathematically formulated:\n",
    "\n",
    "1. **Linear Regression Equation**:\n",
    "   The equation of a straight line is given by:\n",
    "   $$\n",
    "   y = \\beta_0 + \\beta_1 x\n",
    "   $$\n",
    "\n",
    "2. **Transforming for Logistic Regression**:\n",
    "   Since the output in logistic regression must be between 0 and 1, we divide the linear regression equation by $(1 - y)$:\n",
    "   $$\n",
    "   \\frac{y}{1 - y} = \\beta_0 + \\beta_1 x\n",
    "   $$\n",
    "\n",
    "3. **Logarithmic Transformation**:\n",
    "   To get a range from $-\\infty$ to $+\\infty$, we take the logarithm of both sides:\n",
    "   $$\n",
    "   \\log \\left( \\frac{y}{1 - y} \\right) = \\beta_0 + \\beta_1 x\n",
    "   $$\n",
    "\n",
    "   This transformation is called the **log-odds** or **logit**.\n",
    "\n",
    "4. **Final Logistic Regression Equation**:\n",
    "   The final form of the logistic regression equation is:\n",
    "   $$\n",
    "   \\log \\left( \\frac{y}{1 - y} \\right) = \\beta_0 + \\beta_1 x\n",
    "   $$\n",
    "\n",
    "   - Where:\n",
    "     - $ y $ is the probability of the event occurring (between 0 and 1).\n",
    "     - $ \\beta_0 $ is the intercept.\n",
    "     - $ \\beta_1 $ is the coefficient for the feature \\( x \\).\n",
    "\n",
    "This equation allows logistic regression to output probabilities, which are used for classification tasks.\n"
   ]
  },
  {
   "cell_type": "markdown",
   "id": "14eedb8d",
   "metadata": {},
   "source": [
    "## Types of Logistic Regression\n",
    "\n",
    "Logistic regression can be classified into three types based on the categories of the dependent variable:\n",
    "\n",
    "1. **Binomial Logistic Regression**:\n",
    "   - In binomial logistic regression, the dependent variable has only two possible categories.\n",
    "   - Example: 0 or 1, Pass or Fail, Yes or No.\n",
    "\n",
    "2. **Multinomial Logistic Regression**:\n",
    "   - In multinomial logistic regression, the dependent variable has more than two possible unordered categories.\n",
    "   - Example: \"Cat\", \"Dog\", \"Sheep\".\n",
    "\n",
    "3. **Ordinal Logistic Regression**:\n",
    "   - In ordinal logistic regression, the dependent variable has more than two ordered categories.\n",
    "   - Example: \"Low\", \"Medium\", \"High\".\n"
   ]
  },
  {
   "cell_type": "markdown",
   "id": "c5613539",
   "metadata": {},
   "source": [
    "### How to Evaluate Logistic Regression Model?\n",
    "\n",
    "To evaluate the performance of a Logistic Regression model, we can use the following metrics:\n",
    "\n",
    "- **Accuracy**: It provides the proportion of correctly classified instances.\n",
    "  \n",
    "  $$\n",
    "  \\text{Accuracy} = \\frac{\\text{True Positives} + \\text{True Negatives}}{\\text{Total}}\n",
    "  $$\n",
    "\n",
    "\n",
    "\n",
    "- **Precision**: Precision focuses on the accuracy of positive predictions.\n",
    "  \n",
    "  $$\n",
    "  \\text{Precision} = \\frac{\\text{True Positives}}{\\text{True Positives} + \\text{False Positives}}\n",
    "  $$\n",
    "\n",
    "\n",
    "\n",
    "- **Recall** (Sensitivity or True Positive Rate): Recall measures the proportion of correctly predicted positive instances among all actual positive instances.\n",
    "  \n",
    "  $$\n",
    "  \\text{Recall} = \\frac{\\text{True Positives}}{\\text{True Positives} + \\text{False Negatives}}\n",
    "  $$\n",
    "\n",
    "\n",
    "\n",
    "- **F1 Score**: The F1 score is the harmonic mean of precision and recall, providing a balance between the two.\n",
    "  \n",
    "  $$\n",
    "  \\text{F1 Score} = \\frac{2 \\times \\text{Precision} \\times \\text{Recall}}{\\text{Precision} + \\text{Recall}}\n",
    "  $$\n",
    "\n",
    "\n",
    "\n",
    "- **Area Under the Receiver Operating Characteristic Curve (AUC-ROC)**: The ROC curve plots the true positive rate against the false positive rate at various thresholds. AUC-ROC measures the area under this curve, providing an aggregate measure of a model’s performance across different classification thresholds.\n",
    "\n",
    "\n",
    "\n",
    "- **Area Under the Precision-Recall Curve (AUC-PR)**: Similar to AUC-ROC, AUC-PR measures the area under the precision-recall curve, providing a summary of a model’s performance across different precision-recall trade-offs.\n"
   ]
  },
  {
   "cell_type": "markdown",
   "id": "32f42bed",
   "metadata": {},
   "source": [
    "### Precision-Recall Tradeoff and Threshold Selection\n",
    "\n",
    "When choosing the threshold for a Precision-Recall tradeoff, we consider the following scenarios:\n",
    "\n",
    "- **Low Precision / High Recall**:  \n",
    "  In applications where we want to reduce the number of false negatives, we select a threshold that results in low precision but high recall. This is ideal when missing a positive case is more costly than incorrectly classifying a negative case as positive.  \n",
    "  **Example**: In cancer diagnosis, we prioritize identifying all possible cancer patients (high recall) even if some non-cancer patients are falsely diagnosed (low precision), as it’s better to investigate further than miss a true positive case.\n",
    "\n",
    "\n",
    "\n",
    "- **High Precision / Low Recall**:  \n",
    "  In applications where we want to minimize the number of false positives, we choose a threshold that results in high precision but low recall. This ensures that positive predictions are very accurate, even if some true positives are missed.  \n",
    "  **Example**: In personalized advertising, we aim for high precision when predicting which customers will react positively to an ad, as a false positive could lead to lost sales opportunities. Missing a positive reaction (low recall) is less critical in this case.\n"
   ]
  },
  {
   "cell_type": "markdown",
   "id": "4c040156",
   "metadata": {},
   "source": [
    "### Differences Between Linear and Logistic Regression\n",
    "\n",
    "| **Aspect**                           | **Linear Regression**                                      | **Logistic Regression**                                      |\n",
    "|--------------------------------------|------------------------------------------------------------|-------------------------------------------------------------|\n",
    "| **Purpose**                          | Used to predict a continuous dependent variable.           | Used to predict a categorical dependent variable.            |\n",
    "| **Type of Problem**                  | Solves regression problems.                                | Solves classification problems.                              |\n",
    "| **Prediction**                       | Predicts continuous values (e.g., price, age).             | Predicts probabilities of categories (e.g., 0 or 1, Yes or No).|\n",
    "| **Model Type**                       | Finds the best fit line.                                   | Finds an S-curve (sigmoid function).                         |\n",
    "| **Estimation Method**                | Uses least square estimation to estimate accuracy.         | Uses maximum likelihood estimation to estimate accuracy.     |\n",
    "| **Output**                           | Continuous output values.                                  | Categorical output values (0/1, True/False, etc.).           |\n",
    "| **Relationship Requirement**         | Requires a linear relationship between dependent and independent variables. | Does not require a linear relationship between variables.   |\n",
    "| **Collinearity**                     | Collinearity between independent variables is allowed.     | Should have little to no collinearity between independent variables. |\n"
   ]
  },
  {
   "attachments": {
    "linear-regression-vs-logistic-regression.png": {
     "image/png": "[encoded data removed]"
    }
   },
   "cell_type": "markdown",
   "id": "97d67f59",
   "metadata": {},
   "source": [
    "![linear-regression-vs-logistic-regression.png](attachment:linear-regression-vs-logistic-regression.png)"
   ]
  },
  {
   "cell_type": "code",
   "execution_count": null,
   "id": "c3ac81a4",
   "metadata": {},
   "outputs": [],
   "source": []
  }
 ],
 "metadata": {
  "kernelspec": {
   "display_name": "Python 3 (ipykernel)",
   "language": "python",
   "name": "python3"
  },
  "language_info": {
   "codemirror_mode": {
    "name": "ipython",
    "version": 3
   },
   "file_extension": ".py",
   "mimetype": "text/x-python",
   "name": "python",
   "nbconvert_exporter": "python",
   "pygments_lexer": "ipython3",
   "version": "3.9.12"
  }
 },
 "nbformat": 4,
 "nbformat_minor": 5
}
