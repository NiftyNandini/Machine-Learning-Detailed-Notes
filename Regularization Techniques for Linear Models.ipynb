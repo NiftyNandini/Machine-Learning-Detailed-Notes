{
 "cells": [
  {
   "cell_type": "markdown",
   "id": "3f34a1a1",
   "metadata": {},
   "source": [
    "### Regularization Techniques for Linear Models\n",
    "\n",
    "---\n",
    "\n",
    "#### **Lasso Regression (L1 Regularization)**\n",
    "- **Purpose**: Adds a penalty to prevent overfitting by shrinking coefficients.\n",
    "- **Objective Function**:\n",
    "  \n",
    "  $$ J(\\theta) = \\frac{1}{2m} \\sum_{i=1}^{m} \\left( \\hat{y_i} - y_i \\right)^2 + \\lambda \\sum_{j=1}^{n} | \\theta_j | $$\n",
    "  \n",
    "  - **First Term**: Least squares loss (squared difference between predicted and actual values).\n",
    "  - **Second Term**: L1 regularization (sum of absolute values of coefficients $ \\theta_j $ ).\n",
    "\n",
    "---\n",
    "\n",
    "#### **Ridge Regression (L2 Regularization)**\n",
    "- **Purpose**: Penalizes large coefficients to prevent overfitting, useful in multicollinearity scenarios.\n",
    "- **Objective Function**:\n",
    "  \n",
    "  $$ J(\\theta) = \\frac{1}{2m} \\sum_{i=1}^{m} \\left( \\hat{y_i} - y_i \\right)^2 + \\lambda \\sum_{j=1}^{n} \\theta_j^2 $$\n",
    "  \n",
    "  - **First Term**: Least squares loss (squared difference between predicted and actual values).\n",
    "  - **Second Term**: L2 regularization (sum of squares of coefficients $ \\theta_j $ ).\n",
    "\n",
    "---\n",
    "\n",
    "#### **Elastic Net Regression**\n",
    "- **Purpose**: Combines L1 and L2 regularization to balance their strengths.\n",
    "- **Objective Function**:\n",
    "  \n",
    "  $$ J(\\theta) = \\frac{1}{2m} \\sum_{i=1}^{m} \\left( \\hat{y_i} - y_i \\right)^2 + \\alpha \\lambda \\sum_{j=1}^{n} | \\theta_j | + \\frac{1}{2} (1 - \\alpha) \\lambda \\sum_{j=1}^{n} \\theta_j^2 $$\n",
    "  \n",
    "  - **First Term**: Least squares loss.\n",
    "  - **Second Term**: L1 regularization.\n",
    "  - **Third Term**: L2 regularization.\n",
    "  - **Parameters**:\n",
    "    - $ \\lambda $: Regularization strength.\n",
    "    - $ \\alpha $: Balances the mix between L1 and L2.\n",
    "\n"
   ]
  },
  {
   "cell_type": "code",
   "execution_count": null,
   "id": "d4e36ded",
   "metadata": {},
   "outputs": [],
   "source": []
  }
 ],
 "metadata": {
  "kernelspec": {
   "display_name": "Python 3 (ipykernel)",
   "language": "python",
   "name": "python3"
  },
  "language_info": {
   "codemirror_mode": {
    "name": "ipython",
    "version": 3
   },
   "file_extension": ".py",
   "mimetype": "text/x-python",
   "name": "python",
   "nbconvert_exporter": "python",
   "pygments_lexer": "ipython3",
   "version": "3.9.12"
  }
 },
 "nbformat": 4,
 "nbformat_minor": 5
}
